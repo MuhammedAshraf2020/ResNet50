{
  "nbformat": 4,
  "nbformat_minor": 0,
  "metadata": {
    "colab": {
      "name": "Untitled",
      "provenance": [],
      "authorship_tag": "ABX9TyPCrrSapeqXq4UOjVcAT+dO",
      "include_colab_link": true
    },
    "kernelspec": {
      "name": "python3",
      "display_name": "Python 3"
    },
    "accelerator": "GPU"
  },
  "cells": [
    {
      "cell_type": "markdown",
      "metadata": {
        "id": "view-in-github",
        "colab_type": "text"
      },
      "source": [
        "<a href=\"https://colab.research.google.com/github/MuhammedAshraf2020/ResNet50/blob/main/Untitled.ipynb\" target=\"_parent\"><img src=\"https://colab.research.google.com/assets/colab-badge.svg\" alt=\"Open In Colab\"/></a>"
      ]
    },
    {
      "cell_type": "code",
      "metadata": {
        "id": "b6EBpvjxBadA",
        "outputId": "728abc73-ca96-4090-d7db-4eae11484db2",
        "colab": {
          "resources": {
            "http://localhost:8080/nbextensions/google.colab/files.js": {
              "data": "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",
              "ok": true,
              "headers": [
                [
                  "content-type",
                  "application/javascript"
                ]
              ],
              "status": 200,
              "status_text": ""
            }
          },
          "base_uri": "https://localhost:8080/",
          "height": 89
        }
      },
      "source": [
        "#import kaggle json file\n",
        "import google.colab as gc\n",
        "gc.files.upload()"
      ],
      "execution_count": 1,
      "outputs": [
        {
          "output_type": "display_data",
          "data": {
            "text/html": [
              "\n",
              "     <input type=\"file\" id=\"files-23c26783-ba13-4a72-a173-cdbc28e866fc\" name=\"files[]\" multiple disabled\n",
              "        style=\"border:none\" />\n",
              "     <output id=\"result-23c26783-ba13-4a72-a173-cdbc28e866fc\">\n",
              "      Upload widget is only available when the cell has been executed in the\n",
              "      current browser session. Please rerun this cell to enable.\n",
              "      </output>\n",
              "      <script src=\"/nbextensions/google.colab/files.js\"></script> "
            ],
            "text/plain": [
              "<IPython.core.display.HTML object>"
            ]
          },
          "metadata": {
            "tags": []
          }
        },
        {
          "output_type": "stream",
          "text": [
            "Saving kaggle.json to kaggle.json\n"
          ],
          "name": "stdout"
        },
        {
          "output_type": "execute_result",
          "data": {
            "text/plain": [
              "{'kaggle.json': b'{\"username\":\"mohamedashraf2020\",\"key\":\"1a3adc9c255e74902c506c088910458d\"}'}"
            ]
          },
          "metadata": {
            "tags": []
          },
          "execution_count": 1
        }
      ]
    },
    {
      "cell_type": "code",
      "metadata": {
        "id": "e85une55BaPV",
        "outputId": "08464100-486d-402c-ab57-48ab1915db77",
        "colab": {
          "base_uri": "https://localhost:8080/"
        }
      },
      "source": [
        "!mkdir -p ~/.kaggle\n",
        "!cp kaggle.json ~/.kaggle/\n",
        "!chmod 600 ~/.kaggle/kaggle.json\n",
        "\n",
        "!kaggle competitions download -c dogs-vs-cats"
      ],
      "execution_count": 2,
      "outputs": [
        {
          "output_type": "stream",
          "text": [
            "Warning: Looks like you're using an outdated API Version, please consider updating (server 1.5.9 / client 1.5.4)\n",
            "Downloading test1.zip to /content\n",
            " 95% 258M/271M [00:03<00:00, 59.4MB/s]\n",
            "100% 271M/271M [00:03<00:00, 72.3MB/s]\n",
            "Downloading train.zip to /content\n",
            " 98% 532M/543M [00:04<00:00, 164MB/s]\n",
            "100% 543M/543M [00:04<00:00, 127MB/s]\n",
            "Downloading sampleSubmission.csv to /content\n",
            "  0% 0.00/86.8k [00:00<?, ?B/s]\n",
            "100% 86.8k/86.8k [00:00<00:00, 89.2MB/s]\n"
          ],
          "name": "stdout"
        }
      ]
    },
    {
      "cell_type": "code",
      "metadata": {
        "id": "TS36YYz5BaAz",
        "outputId": "bd00fe9e-98c9-47cf-d9d5-c14c59366ccd",
        "colab": {
          "base_uri": "https://localhost:8080/"
        }
      },
      "source": [
        "from zipfile import ZipFile\n",
        "file_name = \"train.zip\"\n",
        "\n",
        "with ZipFile(file_name , \"r\") as Zip:\n",
        "  Zip.extractall()\n",
        "  print(\"Done\")"
      ],
      "execution_count": 3,
      "outputs": [
        {
          "output_type": "stream",
          "text": [
            "Done\n"
          ],
          "name": "stdout"
        }
      ]
    },
    {
      "cell_type": "code",
      "metadata": {
        "id": "5-qbjdFRCzuF"
      },
      "source": [
        "import os"
      ],
      "execution_count": 4,
      "outputs": []
    },
    {
      "cell_type": "code",
      "metadata": {
        "id": "mTJxdacaC4E4"
      },
      "source": [
        "photos_names = os.listdir(\"train\")"
      ],
      "execution_count": 5,
      "outputs": []
    },
    {
      "cell_type": "code",
      "metadata": {
        "id": "l92f3RB3C9d0"
      },
      "source": [
        "import numpy as np\n",
        "import matplotlib.pyplot as plt\n",
        "import cv2\n",
        "X_train = list()\n",
        "y_train = list()\n",
        "\n",
        "for photo in photos_names:\n",
        "  Image = plt.imread(\"train/\"+photo)\n",
        "  Image = cv2.resize(Image , (64 , 64))\n",
        "  X_train.append(Image)\n",
        "  if \"cat\" in photo:\n",
        "    y_train.append(0)\n",
        "  else:\n",
        "    y_train.append(1)"
      ],
      "execution_count": 79,
      "outputs": []
    },
    {
      "cell_type": "code",
      "metadata": {
        "id": "2PWcDXrHDF_C",
        "outputId": "e1aa6243-601c-48a3-8f7b-72d280f83fad",
        "colab": {
          "base_uri": "https://localhost:8080/"
        }
      },
      "source": [
        "X_train = np.array(X_train)\n",
        "y_train = np.array(y_train)\n",
        "X_train.shape"
      ],
      "execution_count": 80,
      "outputs": [
        {
          "output_type": "execute_result",
          "data": {
            "text/plain": [
              "(25000, 64, 64, 3)"
            ]
          },
          "metadata": {
            "tags": []
          },
          "execution_count": 80
        }
      ]
    },
    {
      "cell_type": "code",
      "metadata": {
        "id": "rd6xa9D9fOPo"
      },
      "source": [
        "from sklearn.model_selection import train_test_split"
      ],
      "execution_count": 93,
      "outputs": []
    },
    {
      "cell_type": "code",
      "metadata": {
        "id": "ZiNmvePfD7Vw"
      },
      "source": [
        "X_train , X_test , y_train , y_test = train_test_split(X_train , y_train)"
      ],
      "execution_count": 94,
      "outputs": []
    },
    {
      "cell_type": "code",
      "metadata": {
        "id": "0VcRgFaSxD0P"
      },
      "source": [
        "import ResNet50  as RS50"
      ],
      "execution_count": 62,
      "outputs": []
    },
    {
      "cell_type": "code",
      "metadata": {
        "id": "hiz6GZMzz_ms"
      },
      "source": [
        "model = RS50.ResNet50(input_shape = (64 , 64 , 3) , classes = 2)"
      ],
      "execution_count": 107,
      "outputs": []
    },
    {
      "cell_type": "code",
      "metadata": {
        "id": "hPe-hrBw8Jlw"
      },
      "source": [
        "model.summary()"
      ],
      "execution_count": null,
      "outputs": []
    },
    {
      "cell_type": "code",
      "metadata": {
        "id": "c7Mg40pt9C5S"
      },
      "source": [
        "model.compile(optimizer = \"adam\" , loss = \"SparseCategoricalCrossentropy\" , metrics = [\"accuracy\"])"
      ],
      "execution_count": 108,
      "outputs": []
    },
    {
      "cell_type": "code",
      "metadata": {
        "id": "Xl-ISNWn9ZN1",
        "outputId": "91ad7142-6d4e-4cf0-daa3-b9e56545c896",
        "colab": {
          "base_uri": "https://localhost:8080/"
        }
      },
      "source": [
        "hist = model.fit(X_train , y_train , epochs = 50  , batch_size = 100 , validation_data=(X_test , y_test))"
      ],
      "execution_count": 109,
      "outputs": [
        {
          "output_type": "stream",
          "text": [
            "Epoch 1/50\n",
            "188/188 [==============================] - 13s 67ms/step - loss: 1.0113 - accuracy: 0.6359 - val_loss: 0.6084 - val_accuracy: 0.6686\n",
            "Epoch 2/50\n",
            "188/188 [==============================] - 12s 63ms/step - loss: 0.5238 - accuracy: 0.7421 - val_loss: 0.6455 - val_accuracy: 0.6818\n",
            "Epoch 3/50\n",
            "188/188 [==============================] - 12s 63ms/step - loss: 0.4335 - accuracy: 0.7994 - val_loss: 0.5771 - val_accuracy: 0.7085\n",
            "Epoch 4/50\n",
            "188/188 [==============================] - 12s 63ms/step - loss: 0.3720 - accuracy: 0.8337 - val_loss: 0.8600 - val_accuracy: 0.6523\n",
            "Epoch 5/50\n",
            "188/188 [==============================] - 12s 63ms/step - loss: 0.3162 - accuracy: 0.8641 - val_loss: 0.6089 - val_accuracy: 0.7427\n",
            "Epoch 6/50\n",
            "188/188 [==============================] - 12s 63ms/step - loss: 0.2757 - accuracy: 0.8838 - val_loss: 0.8551 - val_accuracy: 0.6683\n",
            "Epoch 7/50\n",
            "188/188 [==============================] - 12s 64ms/step - loss: 0.2365 - accuracy: 0.9022 - val_loss: 0.5375 - val_accuracy: 0.7611\n",
            "Epoch 8/50\n",
            "188/188 [==============================] - 12s 64ms/step - loss: 0.2143 - accuracy: 0.9126 - val_loss: 0.5754 - val_accuracy: 0.7410\n",
            "Epoch 9/50\n",
            "188/188 [==============================] - 12s 64ms/step - loss: 0.1906 - accuracy: 0.9231 - val_loss: 0.5407 - val_accuracy: 0.7714\n",
            "Epoch 10/50\n",
            "188/188 [==============================] - 12s 64ms/step - loss: 0.1457 - accuracy: 0.9437 - val_loss: 0.6631 - val_accuracy: 0.7389\n",
            "Epoch 11/50\n",
            "188/188 [==============================] - 12s 64ms/step - loss: 0.1279 - accuracy: 0.9503 - val_loss: 0.7284 - val_accuracy: 0.7810\n",
            "Epoch 12/50\n",
            "188/188 [==============================] - 12s 64ms/step - loss: 0.1189 - accuracy: 0.9557 - val_loss: 0.8972 - val_accuracy: 0.7426\n",
            "Epoch 13/50\n",
            "188/188 [==============================] - 12s 64ms/step - loss: 0.1046 - accuracy: 0.9593 - val_loss: 1.4352 - val_accuracy: 0.6304\n",
            "Epoch 14/50\n",
            "188/188 [==============================] - 12s 63ms/step - loss: 0.1048 - accuracy: 0.9596 - val_loss: 0.7762 - val_accuracy: 0.7821\n",
            "Epoch 15/50\n",
            "188/188 [==============================] - 12s 65ms/step - loss: 0.0899 - accuracy: 0.9669 - val_loss: 0.7733 - val_accuracy: 0.7667\n",
            "Epoch 16/50\n",
            "188/188 [==============================] - 12s 65ms/step - loss: 0.0906 - accuracy: 0.9677 - val_loss: 0.8668 - val_accuracy: 0.7712\n",
            "Epoch 17/50\n",
            "188/188 [==============================] - 12s 65ms/step - loss: 0.0762 - accuracy: 0.9710 - val_loss: 0.9428 - val_accuracy: 0.7826\n",
            "Epoch 18/50\n",
            "188/188 [==============================] - 12s 65ms/step - loss: 0.0714 - accuracy: 0.9725 - val_loss: 0.8297 - val_accuracy: 0.8069\n",
            "Epoch 19/50\n",
            "188/188 [==============================] - 12s 64ms/step - loss: 0.0588 - accuracy: 0.9783 - val_loss: 1.2882 - val_accuracy: 0.7691\n",
            "Epoch 20/50\n",
            "188/188 [==============================] - 12s 64ms/step - loss: 0.0705 - accuracy: 0.9741 - val_loss: 0.7189 - val_accuracy: 0.7962\n",
            "Epoch 21/50\n",
            "188/188 [==============================] - 12s 64ms/step - loss: 0.0584 - accuracy: 0.9784 - val_loss: 1.4010 - val_accuracy: 0.7507\n",
            "Epoch 22/50\n",
            "188/188 [==============================] - 12s 64ms/step - loss: 0.0642 - accuracy: 0.9751 - val_loss: 0.7903 - val_accuracy: 0.8010\n",
            "Epoch 23/50\n",
            "188/188 [==============================] - 12s 64ms/step - loss: 0.0560 - accuracy: 0.9790 - val_loss: 1.6283 - val_accuracy: 0.7173\n",
            "Epoch 24/50\n",
            "188/188 [==============================] - 12s 65ms/step - loss: 0.0602 - accuracy: 0.9775 - val_loss: 0.7064 - val_accuracy: 0.7998\n",
            "Epoch 25/50\n",
            "188/188 [==============================] - 12s 64ms/step - loss: 0.0503 - accuracy: 0.9822 - val_loss: 0.8813 - val_accuracy: 0.7862\n",
            "Epoch 26/50\n",
            "188/188 [==============================] - 12s 64ms/step - loss: 0.0416 - accuracy: 0.9844 - val_loss: 0.9623 - val_accuracy: 0.7965\n",
            "Epoch 27/50\n",
            "188/188 [==============================] - 12s 65ms/step - loss: 0.0485 - accuracy: 0.9822 - val_loss: 1.2460 - val_accuracy: 0.7518\n",
            "Epoch 28/50\n",
            "188/188 [==============================] - 12s 64ms/step - loss: 0.0514 - accuracy: 0.9820 - val_loss: 1.0876 - val_accuracy: 0.7733\n",
            "Epoch 29/50\n",
            "188/188 [==============================] - 12s 64ms/step - loss: 0.0455 - accuracy: 0.9841 - val_loss: 0.8567 - val_accuracy: 0.7886\n",
            "Epoch 30/50\n",
            "188/188 [==============================] - 12s 65ms/step - loss: 0.0463 - accuracy: 0.9833 - val_loss: 1.3356 - val_accuracy: 0.7590\n",
            "Epoch 31/50\n",
            "188/188 [==============================] - 12s 64ms/step - loss: 0.0469 - accuracy: 0.9833 - val_loss: 0.8330 - val_accuracy: 0.7726\n",
            "Epoch 32/50\n",
            "188/188 [==============================] - 12s 64ms/step - loss: 0.0400 - accuracy: 0.9858 - val_loss: 0.9104 - val_accuracy: 0.7712\n",
            "Epoch 33/50\n",
            "188/188 [==============================] - 12s 63ms/step - loss: 0.0424 - accuracy: 0.9851 - val_loss: 1.2505 - val_accuracy: 0.7709\n",
            "Epoch 34/50\n",
            "188/188 [==============================] - 12s 63ms/step - loss: 0.0371 - accuracy: 0.9874 - val_loss: 1.1397 - val_accuracy: 0.7966\n",
            "Epoch 35/50\n",
            "188/188 [==============================] - 12s 63ms/step - loss: 0.0342 - accuracy: 0.9885 - val_loss: 0.9755 - val_accuracy: 0.7891\n",
            "Epoch 36/50\n",
            "188/188 [==============================] - 12s 63ms/step - loss: 0.0453 - accuracy: 0.9841 - val_loss: 0.7609 - val_accuracy: 0.8098\n",
            "Epoch 37/50\n",
            "188/188 [==============================] - 12s 63ms/step - loss: 0.0403 - accuracy: 0.9862 - val_loss: 0.9654 - val_accuracy: 0.7926\n",
            "Epoch 38/50\n",
            "188/188 [==============================] - 12s 64ms/step - loss: 0.0348 - accuracy: 0.9884 - val_loss: 0.7950 - val_accuracy: 0.8149\n",
            "Epoch 39/50\n",
            "188/188 [==============================] - 12s 63ms/step - loss: 0.0275 - accuracy: 0.9900 - val_loss: 1.2820 - val_accuracy: 0.7979\n",
            "Epoch 40/50\n",
            "188/188 [==============================] - 12s 63ms/step - loss: 0.0376 - accuracy: 0.9868 - val_loss: 0.9656 - val_accuracy: 0.8053\n",
            "Epoch 41/50\n",
            "188/188 [==============================] - 12s 63ms/step - loss: 0.0332 - accuracy: 0.9882 - val_loss: 1.2421 - val_accuracy: 0.7923\n",
            "Epoch 42/50\n",
            "188/188 [==============================] - 12s 63ms/step - loss: 0.0291 - accuracy: 0.9891 - val_loss: 1.1140 - val_accuracy: 0.7910\n",
            "Epoch 43/50\n",
            "188/188 [==============================] - 12s 63ms/step - loss: 0.0360 - accuracy: 0.9862 - val_loss: 1.0969 - val_accuracy: 0.8107\n",
            "Epoch 44/50\n",
            "188/188 [==============================] - 12s 63ms/step - loss: 0.0317 - accuracy: 0.9881 - val_loss: 2.0826 - val_accuracy: 0.6941\n",
            "Epoch 45/50\n",
            "188/188 [==============================] - 12s 63ms/step - loss: 0.0286 - accuracy: 0.9898 - val_loss: 0.9520 - val_accuracy: 0.7954\n",
            "Epoch 46/50\n",
            "188/188 [==============================] - 12s 63ms/step - loss: 0.0351 - accuracy: 0.9883 - val_loss: 1.0157 - val_accuracy: 0.7410\n",
            "Epoch 47/50\n",
            "188/188 [==============================] - 12s 63ms/step - loss: 0.0262 - accuracy: 0.9910 - val_loss: 0.8462 - val_accuracy: 0.8035\n",
            "Epoch 48/50\n",
            "188/188 [==============================] - 12s 63ms/step - loss: 0.0243 - accuracy: 0.9917 - val_loss: 0.8652 - val_accuracy: 0.7990\n",
            "Epoch 49/50\n",
            "188/188 [==============================] - 12s 63ms/step - loss: 0.0256 - accuracy: 0.9905 - val_loss: 1.0875 - val_accuracy: 0.7941\n",
            "Epoch 50/50\n",
            "188/188 [==============================] - 12s 63ms/step - loss: 0.0251 - accuracy: 0.9902 - val_loss: 0.9813 - val_accuracy: 0.8192\n"
          ],
          "name": "stdout"
        }
      ]
    },
    {
      "cell_type": "code",
      "metadata": {
        "id": "-LXTVmbrbQoO",
        "outputId": "c402c562-40ca-4ec4-8940-99d648f75b14",
        "colab": {
          "base_uri": "https://localhost:8080/",
          "height": 300
        }
      },
      "source": [
        "plt.plot(hist.history['accuracy'], label='accuracy')\n",
        "plt.plot(hist.history['val_accuracy'], label = 'val_accuracy')\n",
        "plt.xlabel('Epoch')\n",
        "plt.ylabel('Accuracy')\n",
        "plt.ylim([0.5, 1])\n",
        "plt.legend(loc='lower right')"
      ],
      "execution_count": 110,
      "outputs": [
        {
          "output_type": "execute_result",
          "data": {
            "text/plain": [
              "<matplotlib.legend.Legend at 0x7fca72521668>"
            ]
          },
          "metadata": {
            "tags": []
          },
          "execution_count": 110
        },
        {
          "output_type": "display_data",
          "data": {
            "image/png": "[encoded data removed]",
            "text/plain": [
              "<Figure size 432x288 with 1 Axes>"
            ]
          },
          "metadata": {
            "tags": [],
            "needs_background": "light"
          }
        }
      ]
    },
    {
      "cell_type": "code",
      "metadata": {
        "id": "itt1sN4oWe5h",
        "outputId": "bc7690ae-a2fd-4b06-df78-6537e4e4dfdb",
        "colab": {
          "base_uri": "https://localhost:8080/"
        }
      },
      "source": [
        "model.evaluate(X_test ,  y_test , verbose=2)"
      ],
      "execution_count": 111,
      "outputs": [
        {
          "output_type": "stream",
          "text": [
            "196/196 - 2s - loss: 0.9813 - accuracy: 0.8192\n"
          ],
          "name": "stdout"
        },
        {
          "output_type": "execute_result",
          "data": {
            "text/plain": [
              "[0.9812730550765991, 0.8191999793052673]"
            ]
          },
          "metadata": {
            "tags": []
          },
          "execution_count": 111
        }
      ]
    }
  ]
}
